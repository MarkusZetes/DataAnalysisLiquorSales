{
 "cells": [
  {
   "cell_type": "markdown",
   "id": "fca3d0fb",
   "metadata": {},
   "source": [
    "# Image classification project\n",
    "\n",
    "## This project contains three classifications of different kind of images, I will start with the 'fashion_mnist' dataset, which is built in the keras library and contains greyscale (1 color dimension) images of different fashion items. \n",
    "\n",
    "## Next dataset will also be an extremely popular image-dataset, the 'CIFAR-10', which are colored images of 10 classes of different objects or animals. \n",
    "\n",
    "## The last classification will be done on 'real-world' images, more exactly real blood-cell images infected with malaria or not."
   ]
  },
  {
   "cell_type": "markdown",
   "id": "69f4a95e",
   "metadata": {},
   "source": [
    "**The way that I intend to approach all this image-datasets is via Convolutional Neuronal Networks (CNNs). As I researched the literature and different papers about image classification, they all tend to encourage the usage of CNNs, becasue they work so well in finding thhe right weights for the image kernels (filters) and can produce extremely accurate classifications.**"
   ]
  },
  {
   "cell_type": "markdown",
   "id": "0bb77aad",
   "metadata": {},
   "source": [
    "- Along this project I'm going to be adding pooling layers to the networks, expriment with the number of filter, stride distances (distance between pixels when applying the filters (however, according to literature, for the size of images I will be using the best-working stride is (1,1))\n",
    "- I will be adjusting the Dense (interconnected) layers before my final outputs, I will use Dropouts(randomy turning off neuron from the Dense Neural Layer) to avoid overfitting and all in all, trying to create the best model\n",
    "- For the 'real healthcare images' I will be using random image generation,the reason being that I don't really have so many images about blood cells and for the model to be accurate and the F1-scores to be near 1, I will need to feed new images to the model (that can be done by randomly cropping, expanding, flipping the already given images)"
   ]
  },
  {
   "cell_type": "markdown",
   "id": "014b9154",
   "metadata": {},
   "source": [
    "## Fashion-mnist dataset"
   ]
  },
  {
   "cell_type": "markdown",
   "id": "c5eddddd",
   "metadata": {},
   "source": [
    "**Description of Fashion-mnist dataset**\n",
    "\n",
    "This image-dataset includes 10 labels of different clothing items, all being gryscale images. The dataset is built into the keras library and has 60000 training images and 10000 testing images\n",
    "\n",
    "  Label\t   Description\n",
    "  \n",
    "    0\t    T-shirt/top\n",
    "    \n",
    "    1\t    Trouser\n",
    "    \n",
    "    2\t    Pullover\n",
    "    \n",
    "    3\t    Dress\n",
    "    \n",
    "    4\t    Coat\n",
    "    \n",
    "    5\t    Sandal\n",
    "    \n",
    "    6\t    Shirt\n",
    "    \n",
    "    7\t    Sneaker\n",
    "    \n",
    "    8\t    Bag\n",
    "    \n",
    "    9\t    Ankle boot"
   ]
  },
  {
   "cell_type": "code",
   "execution_count": 2,
   "id": "73f6b1ad",
   "metadata": {},
   "outputs": [],
   "source": [
    "#First step is to import the libraries we will be using\n",
    "import os\n",
    "import pandas as pd\n",
    "import numpy as np\n",
    "import matplotlib.pyplot as plt\n",
    "%matplotlib inline"
   ]
  },
  {
   "cell_type": "code",
   "execution_count": 3,
   "id": "27e61bd9",
   "metadata": {},
   "outputs": [
    {
     "name": "stdout",
     "output_type": "stream",
     "text": [
      "Downloading data from https://storage.googleapis.com/tensorflow/tf-keras-datasets/train-labels-idx1-ubyte.gz\n",
      "29515/29515 [==============================] - 0s 1us/step\n",
      "Downloading data from https://storage.googleapis.com/tensorflow/tf-keras-datasets/train-images-idx3-ubyte.gz\n",
      "26421880/26421880 [==============================] - 4s 0us/step\n",
      "Downloading data from https://storage.googleapis.com/tensorflow/tf-keras-datasets/t10k-labels-idx1-ubyte.gz\n",
      "5148/5148 [==============================] - 0s 0s/step\n",
      "Downloading data from https://storage.googleapis.com/tensorflow/tf-keras-datasets/t10k-images-idx3-ubyte.gz\n",
      "4422102/4422102 [==============================] - 1s 0us/step\n"
     ]
    }
   ],
   "source": [
    "#Load the dataset\n",
    "from tensorflow.keras.datasets import fashion_mnist\n",
    "#Split the data into training and testing features\n",
    "(X_train, y_train), (X_test, y_test) = fashion_mnist.load_data()"
   ]
  },
  {
   "cell_type": "code",
   "execution_count": 4,
   "id": "ca169770",
   "metadata": {},
   "outputs": [
    {
     "data": {
      "text/plain": [
       "array([[  0,   0,   0,   0,   1,   0,   0,   0,   0,  22,  88, 188, 172,\n",
       "        132, 125, 141, 199, 143,   9,   0,   0,   0,   1,   0,   0,   0,\n",
       "          0,   0],\n",
       "       [  0,   0,   0,   1,   0,   0,  20, 131, 199, 206, 196, 202, 242,\n",
       "        255, 255, 250, 222, 197, 206, 188, 126,  17,   0,   0,   0,   0,\n",
       "          0,   0],\n",
       "       [  0,   0,   0,   1,   0,  35, 214, 191, 183, 178, 175, 168, 150,\n",
       "        162, 159, 152, 158, 179, 183, 189, 195, 185,  82,   0,   0,   0,\n",
       "          0,   0],\n",
       "       [  0,   0,   0,   0,   0, 170, 190, 172, 177, 176, 171, 169, 162,\n",
       "        155, 148, 154, 169, 174, 175, 175, 177, 183, 188,  12,   0,   0,\n",
       "          0,   0],\n",
       "       [  0,   0,   0,   0,  25, 194, 180, 178, 174, 184, 187, 189, 187,\n",
       "        184, 181, 189, 200, 197, 193, 190, 178, 175, 194,  90,   0,   0,\n",
       "          0,   0],\n",
       "       [  0,   0,   0,   0,  42, 218, 191, 197, 208, 204, 211, 209, 210,\n",
       "        212, 211, 214, 215, 213, 214, 211, 211, 191, 200, 158,   0,   0,\n",
       "          0,   0],\n",
       "       [  0,   0,   0,   0,  88, 221, 215, 217, 219, 211, 185, 150, 118,\n",
       "        107,  99,  88,  83,  90, 135, 212, 203, 207, 219, 169,   0,   0,\n",
       "          0,   0],\n",
       "       [  0,   0,   0,   0,   0,  27, 118, 162,  40,   0,   0,   0,  10,\n",
       "         19,  28,  39,  47,  36,   0,   0, 203, 230, 220, 203,   0,   0,\n",
       "          0,   0],\n",
       "       [  0,   0,   0,   0, 138, 136,  71,  69,  54, 216, 217, 203, 184,\n",
       "        168, 163, 162, 163, 178, 221, 186,  38,  26,   7,   0,   0,   0,\n",
       "          0,   0],\n",
       "       [  0,   0,   0,   0,  67, 134, 154, 224, 129,  66,  81, 117, 129,\n",
       "        128, 132, 137, 131, 129,  86,  73, 157, 151, 134, 216,  18,   0,\n",
       "          0,   0],\n",
       "       [  0,   0,   0,   0, 203, 198, 172, 183, 206, 255, 255, 250, 243,\n",
       "        240, 239, 235, 238, 244, 255, 238, 184, 160,  86,  98,   0,   0,\n",
       "          0,   0],\n",
       "       [  0,   0,   0,   0, 122, 188, 224, 151, 105, 127,  97, 100, 105,\n",
       "        114, 117, 117, 113, 103,  98, 111, 142, 254, 191, 255,  49,   0,\n",
       "          0,   0],\n",
       "       [  0,   0,   0,   0, 163, 179, 200,  95, 154, 198, 197, 200, 200,\n",
       "        198, 197, 198, 199, 202, 200, 176,  86, 206, 157, 162,  10,   0,\n",
       "          0,   0],\n",
       "       [  0,   0,   0,   0, 197, 201, 229,  71, 144, 194, 181, 183, 179,\n",
       "        182, 180, 179, 180, 190, 185, 197,  76, 219, 185, 201,  34,   0,\n",
       "          0,   0],\n",
       "       [  0,   0,   0,   0, 199, 193, 226,  58, 154, 192, 184, 187, 184,\n",
       "        186, 184, 185, 183, 192, 191, 200,  56, 219, 203, 207,  60,   0,\n",
       "          0,   0],\n",
       "       [  0,   0,   0,   0, 201, 194, 224,  41, 163, 190, 186, 186, 184,\n",
       "        185, 183, 185, 178, 190, 194, 202,  33, 211, 200, 206,  73,   0,\n",
       "          0,   0],\n",
       "       [  0,   0,   0,   0, 201, 197, 222,  17, 172, 190, 186, 187, 182,\n",
       "        186, 185, 187, 180, 187, 193, 202,  26, 212, 202, 203,  76,   0,\n",
       "          0,   0],\n",
       "       [  0,   0,   0,   0, 200, 197, 223,   0, 177, 189, 184, 185, 178,\n",
       "        184, 183, 184, 180, 183, 189, 203,  35, 196, 203, 203,  84,   0,\n",
       "          0,   0],\n",
       "       [  0,   0,   0,   0, 200, 197, 223,   0, 185, 187, 185, 187, 180,\n",
       "        184, 182, 183, 178, 182, 183, 205,  44, 159, 207, 201,  85,   0,\n",
       "          0,   0],\n",
       "       [  0,   0,   0,   0, 187, 198, 225,   0, 194, 188, 184, 185, 180,\n",
       "        183, 183, 184, 181, 181, 177, 206,  46, 129, 211, 200,  88,   0,\n",
       "          0,   0],\n",
       "       [  0,   0,   0,   6, 186, 200, 211,   0, 199, 189, 184, 184, 185,\n",
       "        182, 183, 184, 185, 182, 175, 205,  50,  97, 216, 197,  93,   0,\n",
       "          0,   0],\n",
       "       [  0,   0,   0,   5, 185, 204, 184,   0, 202, 188, 182, 182, 183,\n",
       "        183, 184, 182, 180, 182, 174, 202,  63,  59, 220, 196,  94,   0,\n",
       "          0,   0],\n",
       "       [  0,   0,   0,   5, 184, 206, 157,   0, 204, 187, 187, 189, 192,\n",
       "        190, 190, 191, 190, 187, 183, 202,  78,  35, 222, 197,  95,   0,\n",
       "          0,   0],\n",
       "       [  0,   0,   0,   5, 183, 208, 127,   0, 197, 166, 153, 149, 149,\n",
       "        146, 148, 149, 150, 151, 158, 191,  90,   8, 223, 195,  99,   0,\n",
       "          0,   0],\n",
       "       [  0,   0,   0,   6, 184, 208, 114,   0, 204, 173, 161, 180, 176,\n",
       "        172, 173, 173, 174, 176, 162, 202, 115,   0, 229, 199, 105,   0,\n",
       "          0,   0],\n",
       "       [  0,   0,   0,   9, 178, 204, 115,   0, 121, 135, 114, 117, 114,\n",
       "        114, 117, 118, 119, 117, 113, 147,  63,   0, 225, 196, 107,   0,\n",
       "          0,   0],\n",
       "       [  0,   0,   0,  18, 180, 206, 131,   0,   0,   0,   0,   0,   0,\n",
       "          0,   0,   0,   0,   0,   0,   0,   0,   0, 224, 197, 123,   0,\n",
       "          0,   0],\n",
       "       [  0,   0,   0,   0, 141, 151,  76,   0,   1,   1,   0,   0,   0,\n",
       "          0,   0,   0,   0,   0,   0,   0,   0,   0, 133, 167,  73,   0,\n",
       "          0,   0]], dtype=uint8)"
      ]
     },
     "execution_count": 4,
     "metadata": {},
     "output_type": "execute_result"
    }
   ],
   "source": [
    "#Let's check out the kernel of a single image\n",
    "X_train[5]"
   ]
  },
  {
   "cell_type": "code",
   "execution_count": 5,
   "id": "53785818",
   "metadata": {},
   "outputs": [
    {
     "data": {
      "text/plain": [
       "<matplotlib.image.AxesImage at 0x1ec905e6160>"
      ]
     },
     "execution_count": 5,
     "metadata": {},
     "output_type": "execute_result"
    },
    {
     "data": {
      "image/png": "[encoded data removed]",
      "text/plain": [
       "<Figure size 640x480 with 1 Axes>"
      ]
     },
     "metadata": {},
     "output_type": "display_data"
    }
   ],
   "source": [
    "#Let's actually see the image\n",
    "plt.imshow(X_train[5], cmap='Greys')"
   ]
  },
  {
   "cell_type": "markdown",
   "id": "04770045",
   "metadata": {},
   "source": [
    "This image looks like a pullover in my opinion, but let's check it"
   ]
  },
  {
   "cell_type": "code",
   "execution_count": 6,
   "id": "4baf6e0a",
   "metadata": {},
   "outputs": [
    {
     "data": {
      "text/plain": [
       "2"
      ]
     },
     "execution_count": 6,
     "metadata": {},
     "output_type": "execute_result"
    }
   ],
   "source": [
    "y_train[5]"
   ]
  },
  {
   "cell_type": "markdown",
   "id": "ec4e7ac7",
   "metadata": {},
   "source": [
    "- Yes the image really is a pullover"
   ]
  },
  {
   "cell_type": "markdown",
   "id": "b84d65ad",
   "metadata": {},
   "source": [
    "**Preprocessing the data**"
   ]
  },
  {
   "cell_type": "code",
   "execution_count": 9,
   "id": "158ccfa3",
   "metadata": {},
   "outputs": [
    {
     "data": {
      "text/plain": [
       "(60000, 28, 28)"
      ]
     },
     "execution_count": 9,
     "metadata": {},
     "output_type": "execute_result"
    }
   ],
   "source": [
    "#Let's check the shape of our training data:\n",
    "X_train.shape"
   ]
  },
  {
   "cell_type": "code",
   "execution_count": 11,
   "id": "0145603d",
   "metadata": {},
   "outputs": [
    {
     "data": {
      "text/plain": [
       "(10000, 28, 28)"
      ]
     },
     "execution_count": 11,
     "metadata": {},
     "output_type": "execute_result"
    }
   ],
   "source": [
    "#Let's check the shape of our test data:\n",
    "X_test.shape"
   ]
  },
  {
   "cell_type": "markdown",
   "id": "8f70d7a8",
   "metadata": {},
   "source": [
    "Everything checks out here, but a next step we should take would be normalizing the data, not to have problems with the color gradients. Usually pixels have values between 0-255 and we wil normaize them to be 0-1"
   ]
  },
  {
   "cell_type": "code",
   "execution_count": 12,
   "id": "e32d1d2e",
   "metadata": {},
   "outputs": [
    {
     "data": {
      "text/plain": [
       "255"
      ]
     },
     "execution_count": 12,
     "metadata": {},
     "output_type": "execute_result"
    }
   ],
   "source": [
    "#Let's actually check the min and max values of the pixels\n",
    "X_train.max()"
   ]
  },
  {
   "cell_type": "code",
   "execution_count": 13,
   "id": "4012438f",
   "metadata": {},
   "outputs": [
    {
     "data": {
      "text/plain": [
       "0"
      ]
     },
     "execution_count": 13,
     "metadata": {},
     "output_type": "execute_result"
    }
   ],
   "source": [
    "X_train.min()"
   ]
  },
  {
   "cell_type": "markdown",
   "id": "2d3a1794",
   "metadata": {},
   "source": [
    "- Given the fact that any other input or test image will also be between 0-255, the normaliztion is extremely intuitive:"
   ]
  },
  {
   "cell_type": "code",
   "execution_count": 14,
   "id": "c50eec4c",
   "metadata": {},
   "outputs": [],
   "source": [
    "X_train = X_train/255\n",
    "X_test = X_test/255"
   ]
  },
  {
   "cell_type": "code",
   "execution_count": 15,
   "id": "68661bf0",
   "metadata": {},
   "outputs": [
    {
     "data": {
      "text/plain": [
       "array([[0.        , 0.        , 0.        , 0.        , 0.00392157,\n",
       "        0.        , 0.        , 0.        , 0.        , 0.08627451,\n",
       "        0.34509804, 0.7372549 , 0.6745098 , 0.51764706, 0.49019608,\n",
       "        0.55294118, 0.78039216, 0.56078431, 0.03529412, 0.        ,\n",
       "        0.        , 0.        , 0.00392157, 0.        , 0.        ,\n",
       "        0.        , 0.        , 0.        ],\n",
       "       [0.        , 0.        , 0.        , 0.00392157, 0.        ,\n",
       "        0.        , 0.07843137, 0.51372549, 0.78039216, 0.80784314,\n",
       "        0.76862745, 0.79215686, 0.94901961, 1.        , 1.        ,\n",
       "        0.98039216, 0.87058824, 0.77254902, 0.80784314, 0.7372549 ,\n",
       "        0.49411765, 0.06666667, 0.        , 0.        , 0.        ,\n",
       "        0.        , 0.        , 0.        ],\n",
       "       [0.        , 0.        , 0.        , 0.00392157, 0.        ,\n",
       "        0.1372549 , 0.83921569, 0.74901961, 0.71764706, 0.69803922,\n",
       "        0.68627451, 0.65882353, 0.58823529, 0.63529412, 0.62352941,\n",
       "        0.59607843, 0.61960784, 0.70196078, 0.71764706, 0.74117647,\n",
       "        0.76470588, 0.7254902 , 0.32156863, 0.        , 0.        ,\n",
       "        0.        , 0.        , 0.        ],\n",
       "       [0.        , 0.        , 0.        , 0.        , 0.        ,\n",
       "        0.66666667, 0.74509804, 0.6745098 , 0.69411765, 0.69019608,\n",
       "        0.67058824, 0.6627451 , 0.63529412, 0.60784314, 0.58039216,\n",
       "        0.60392157, 0.6627451 , 0.68235294, 0.68627451, 0.68627451,\n",
       "        0.69411765, 0.71764706, 0.7372549 , 0.04705882, 0.        ,\n",
       "        0.        , 0.        , 0.        ],\n",
       "       [0.        , 0.        , 0.        , 0.        , 0.09803922,\n",
       "        0.76078431, 0.70588235, 0.69803922, 0.68235294, 0.72156863,\n",
       "        0.73333333, 0.74117647, 0.73333333, 0.72156863, 0.70980392,\n",
       "        0.74117647, 0.78431373, 0.77254902, 0.75686275, 0.74509804,\n",
       "        0.69803922, 0.68627451, 0.76078431, 0.35294118, 0.        ,\n",
       "        0.        , 0.        , 0.        ],\n",
       "       [0.        , 0.        , 0.        , 0.        , 0.16470588,\n",
       "        0.85490196, 0.74901961, 0.77254902, 0.81568627, 0.8       ,\n",
       "        0.82745098, 0.81960784, 0.82352941, 0.83137255, 0.82745098,\n",
       "        0.83921569, 0.84313725, 0.83529412, 0.83921569, 0.82745098,\n",
       "        0.82745098, 0.74901961, 0.78431373, 0.61960784, 0.        ,\n",
       "        0.        , 0.        , 0.        ],\n",
       "       [0.        , 0.        , 0.        , 0.        , 0.34509804,\n",
       "        0.86666667, 0.84313725, 0.85098039, 0.85882353, 0.82745098,\n",
       "        0.7254902 , 0.58823529, 0.4627451 , 0.41960784, 0.38823529,\n",
       "        0.34509804, 0.3254902 , 0.35294118, 0.52941176, 0.83137255,\n",
       "        0.79607843, 0.81176471, 0.85882353, 0.6627451 , 0.        ,\n",
       "        0.        , 0.        , 0.        ],\n",
       "       [0.        , 0.        , 0.        , 0.        , 0.        ,\n",
       "        0.10588235, 0.4627451 , 0.63529412, 0.15686275, 0.        ,\n",
       "        0.        , 0.        , 0.03921569, 0.0745098 , 0.10980392,\n",
       "        0.15294118, 0.18431373, 0.14117647, 0.        , 0.        ,\n",
       "        0.79607843, 0.90196078, 0.8627451 , 0.79607843, 0.        ,\n",
       "        0.        , 0.        , 0.        ],\n",
       "       [0.        , 0.        , 0.        , 0.        , 0.54117647,\n",
       "        0.53333333, 0.27843137, 0.27058824, 0.21176471, 0.84705882,\n",
       "        0.85098039, 0.79607843, 0.72156863, 0.65882353, 0.63921569,\n",
       "        0.63529412, 0.63921569, 0.69803922, 0.86666667, 0.72941176,\n",
       "        0.14901961, 0.10196078, 0.02745098, 0.        , 0.        ,\n",
       "        0.        , 0.        , 0.        ],\n",
       "       [0.        , 0.        , 0.        , 0.        , 0.2627451 ,\n",
       "        0.5254902 , 0.60392157, 0.87843137, 0.50588235, 0.25882353,\n",
       "        0.31764706, 0.45882353, 0.50588235, 0.50196078, 0.51764706,\n",
       "        0.5372549 , 0.51372549, 0.50588235, 0.3372549 , 0.28627451,\n",
       "        0.61568627, 0.59215686, 0.5254902 , 0.84705882, 0.07058824,\n",
       "        0.        , 0.        , 0.        ],\n",
       "       [0.        , 0.        , 0.        , 0.        , 0.79607843,\n",
       "        0.77647059, 0.6745098 , 0.71764706, 0.80784314, 1.        ,\n",
       "        1.        , 0.98039216, 0.95294118, 0.94117647, 0.9372549 ,\n",
       "        0.92156863, 0.93333333, 0.95686275, 1.        , 0.93333333,\n",
       "        0.72156863, 0.62745098, 0.3372549 , 0.38431373, 0.        ,\n",
       "        0.        , 0.        , 0.        ],\n",
       "       [0.        , 0.        , 0.        , 0.        , 0.47843137,\n",
       "        0.7372549 , 0.87843137, 0.59215686, 0.41176471, 0.49803922,\n",
       "        0.38039216, 0.39215686, 0.41176471, 0.44705882, 0.45882353,\n",
       "        0.45882353, 0.44313725, 0.40392157, 0.38431373, 0.43529412,\n",
       "        0.55686275, 0.99607843, 0.74901961, 1.        , 0.19215686,\n",
       "        0.        , 0.        , 0.        ],\n",
       "       [0.        , 0.        , 0.        , 0.        , 0.63921569,\n",
       "        0.70196078, 0.78431373, 0.37254902, 0.60392157, 0.77647059,\n",
       "        0.77254902, 0.78431373, 0.78431373, 0.77647059, 0.77254902,\n",
       "        0.77647059, 0.78039216, 0.79215686, 0.78431373, 0.69019608,\n",
       "        0.3372549 , 0.80784314, 0.61568627, 0.63529412, 0.03921569,\n",
       "        0.        , 0.        , 0.        ],\n",
       "       [0.        , 0.        , 0.        , 0.        , 0.77254902,\n",
       "        0.78823529, 0.89803922, 0.27843137, 0.56470588, 0.76078431,\n",
       "        0.70980392, 0.71764706, 0.70196078, 0.71372549, 0.70588235,\n",
       "        0.70196078, 0.70588235, 0.74509804, 0.7254902 , 0.77254902,\n",
       "        0.29803922, 0.85882353, 0.7254902 , 0.78823529, 0.13333333,\n",
       "        0.        , 0.        , 0.        ],\n",
       "       [0.        , 0.        , 0.        , 0.        , 0.78039216,\n",
       "        0.75686275, 0.88627451, 0.22745098, 0.60392157, 0.75294118,\n",
       "        0.72156863, 0.73333333, 0.72156863, 0.72941176, 0.72156863,\n",
       "        0.7254902 , 0.71764706, 0.75294118, 0.74901961, 0.78431373,\n",
       "        0.21960784, 0.85882353, 0.79607843, 0.81176471, 0.23529412,\n",
       "        0.        , 0.        , 0.        ],\n",
       "       [0.        , 0.        , 0.        , 0.        , 0.78823529,\n",
       "        0.76078431, 0.87843137, 0.16078431, 0.63921569, 0.74509804,\n",
       "        0.72941176, 0.72941176, 0.72156863, 0.7254902 , 0.71764706,\n",
       "        0.7254902 , 0.69803922, 0.74509804, 0.76078431, 0.79215686,\n",
       "        0.12941176, 0.82745098, 0.78431373, 0.80784314, 0.28627451,\n",
       "        0.        , 0.        , 0.        ],\n",
       "       [0.        , 0.        , 0.        , 0.        , 0.78823529,\n",
       "        0.77254902, 0.87058824, 0.06666667, 0.6745098 , 0.74509804,\n",
       "        0.72941176, 0.73333333, 0.71372549, 0.72941176, 0.7254902 ,\n",
       "        0.73333333, 0.70588235, 0.73333333, 0.75686275, 0.79215686,\n",
       "        0.10196078, 0.83137255, 0.79215686, 0.79607843, 0.29803922,\n",
       "        0.        , 0.        , 0.        ],\n",
       "       [0.        , 0.        , 0.        , 0.        , 0.78431373,\n",
       "        0.77254902, 0.8745098 , 0.        , 0.69411765, 0.74117647,\n",
       "        0.72156863, 0.7254902 , 0.69803922, 0.72156863, 0.71764706,\n",
       "        0.72156863, 0.70588235, 0.71764706, 0.74117647, 0.79607843,\n",
       "        0.1372549 , 0.76862745, 0.79607843, 0.79607843, 0.32941176,\n",
       "        0.        , 0.        , 0.        ],\n",
       "       [0.        , 0.        , 0.        , 0.        , 0.78431373,\n",
       "        0.77254902, 0.8745098 , 0.        , 0.7254902 , 0.73333333,\n",
       "        0.7254902 , 0.73333333, 0.70588235, 0.72156863, 0.71372549,\n",
       "        0.71764706, 0.69803922, 0.71372549, 0.71764706, 0.80392157,\n",
       "        0.17254902, 0.62352941, 0.81176471, 0.78823529, 0.33333333,\n",
       "        0.        , 0.        , 0.        ],\n",
       "       [0.        , 0.        , 0.        , 0.        , 0.73333333,\n",
       "        0.77647059, 0.88235294, 0.        , 0.76078431, 0.7372549 ,\n",
       "        0.72156863, 0.7254902 , 0.70588235, 0.71764706, 0.71764706,\n",
       "        0.72156863, 0.70980392, 0.70980392, 0.69411765, 0.80784314,\n",
       "        0.18039216, 0.50588235, 0.82745098, 0.78431373, 0.34509804,\n",
       "        0.        , 0.        , 0.        ],\n",
       "       [0.        , 0.        , 0.        , 0.02352941, 0.72941176,\n",
       "        0.78431373, 0.82745098, 0.        , 0.78039216, 0.74117647,\n",
       "        0.72156863, 0.72156863, 0.7254902 , 0.71372549, 0.71764706,\n",
       "        0.72156863, 0.7254902 , 0.71372549, 0.68627451, 0.80392157,\n",
       "        0.19607843, 0.38039216, 0.84705882, 0.77254902, 0.36470588,\n",
       "        0.        , 0.        , 0.        ],\n",
       "       [0.        , 0.        , 0.        , 0.01960784, 0.7254902 ,\n",
       "        0.8       , 0.72156863, 0.        , 0.79215686, 0.7372549 ,\n",
       "        0.71372549, 0.71372549, 0.71764706, 0.71764706, 0.72156863,\n",
       "        0.71372549, 0.70588235, 0.71372549, 0.68235294, 0.79215686,\n",
       "        0.24705882, 0.23137255, 0.8627451 , 0.76862745, 0.36862745,\n",
       "        0.        , 0.        , 0.        ],\n",
       "       [0.        , 0.        , 0.        , 0.01960784, 0.72156863,\n",
       "        0.80784314, 0.61568627, 0.        , 0.8       , 0.73333333,\n",
       "        0.73333333, 0.74117647, 0.75294118, 0.74509804, 0.74509804,\n",
       "        0.74901961, 0.74509804, 0.73333333, 0.71764706, 0.79215686,\n",
       "        0.30588235, 0.1372549 , 0.87058824, 0.77254902, 0.37254902,\n",
       "        0.        , 0.        , 0.        ],\n",
       "       [0.        , 0.        , 0.        , 0.01960784, 0.71764706,\n",
       "        0.81568627, 0.49803922, 0.        , 0.77254902, 0.65098039,\n",
       "        0.6       , 0.58431373, 0.58431373, 0.57254902, 0.58039216,\n",
       "        0.58431373, 0.58823529, 0.59215686, 0.61960784, 0.74901961,\n",
       "        0.35294118, 0.03137255, 0.8745098 , 0.76470588, 0.38823529,\n",
       "        0.        , 0.        , 0.        ],\n",
       "       [0.        , 0.        , 0.        , 0.02352941, 0.72156863,\n",
       "        0.81568627, 0.44705882, 0.        , 0.8       , 0.67843137,\n",
       "        0.63137255, 0.70588235, 0.69019608, 0.6745098 , 0.67843137,\n",
       "        0.67843137, 0.68235294, 0.69019608, 0.63529412, 0.79215686,\n",
       "        0.45098039, 0.        , 0.89803922, 0.78039216, 0.41176471,\n",
       "        0.        , 0.        , 0.        ],\n",
       "       [0.        , 0.        , 0.        , 0.03529412, 0.69803922,\n",
       "        0.8       , 0.45098039, 0.        , 0.4745098 , 0.52941176,\n",
       "        0.44705882, 0.45882353, 0.44705882, 0.44705882, 0.45882353,\n",
       "        0.4627451 , 0.46666667, 0.45882353, 0.44313725, 0.57647059,\n",
       "        0.24705882, 0.        , 0.88235294, 0.76862745, 0.41960784,\n",
       "        0.        , 0.        , 0.        ],\n",
       "       [0.        , 0.        , 0.        , 0.07058824, 0.70588235,\n",
       "        0.80784314, 0.51372549, 0.        , 0.        , 0.        ,\n",
       "        0.        , 0.        , 0.        , 0.        , 0.        ,\n",
       "        0.        , 0.        , 0.        , 0.        , 0.        ,\n",
       "        0.        , 0.        , 0.87843137, 0.77254902, 0.48235294,\n",
       "        0.        , 0.        , 0.        ],\n",
       "       [0.        , 0.        , 0.        , 0.        , 0.55294118,\n",
       "        0.59215686, 0.29803922, 0.        , 0.00392157, 0.00392157,\n",
       "        0.        , 0.        , 0.        , 0.        , 0.        ,\n",
       "        0.        , 0.        , 0.        , 0.        , 0.        ,\n",
       "        0.        , 0.        , 0.52156863, 0.65490196, 0.28627451,\n",
       "        0.        , 0.        , 0.        ]])"
      ]
     },
     "execution_count": 15,
     "metadata": {},
     "output_type": "execute_result"
    }
   ],
   "source": [
    "# We should check on the previous image if the scaling worked\n",
    "scaled = X_train[5]\n",
    "scaled"
   ]
  },
  {
   "cell_type": "markdown",
   "id": "49d641a3",
   "metadata": {},
   "source": [
    "- Indeed we see values only between 0 and 1, let's also visually check the image"
   ]
  },
  {
   "cell_type": "code",
   "execution_count": 16,
   "id": "9937e2eb",
   "metadata": {},
   "outputs": [
    {
     "data": {
      "text/plain": [
       "<matplotlib.image.AxesImage at 0x1eca5bacc10>"
      ]
     },
     "execution_count": 16,
     "metadata": {},
     "output_type": "execute_result"
    },
    {
     "data": {
      "image/png": "[encoded data removed]",
      "text/plain": [
       "<Figure size 640x480 with 1 Axes>"
      ]
     },
     "metadata": {},
     "output_type": "display_data"
    }
   ],
   "source": [
    "plt.imshow(scaled, cmap = 'Greys')"
   ]
  },
  {
   "cell_type": "markdown",
   "id": "592715ba",
   "metadata": {},
   "source": [
    "- Everything seems to check out!"
   ]
  },
  {
   "cell_type": "code",
   "execution_count": 17,
   "id": "4476c1aa",
   "metadata": {},
   "outputs": [
    {
     "data": {
      "text/plain": [
       "(60000, 28, 28)"
      ]
     },
     "execution_count": 17,
     "metadata": {},
     "output_type": "execute_result"
    }
   ],
   "source": [
    "#Recall that we were missing a dimension in our previous shape inspection\n",
    "X_train.shape"
   ]
  },
  {
   "cell_type": "markdown",
   "id": "a0ee3fa7",
   "metadata": {},
   "source": [
    "It is mandatory to let the network know it deals with greyscale images(a single rgb color channel), so we need to reshape our training and testing data"
   ]
  },
  {
   "cell_type": "code",
   "execution_count": 19,
   "id": "c9a8fc8c",
   "metadata": {},
   "outputs": [],
   "source": [
    "#Every input will look like this: (batchsize, width, height, color_channel)\n",
    "X_train = X_train.reshape(60000, 28, 28, 1)\n",
    "X_test = X_test.reshape(10000, 28, 28, 1)"
   ]
  },
  {
   "cell_type": "markdown",
   "id": "22e17315",
   "metadata": {},
   "source": [
    "Now that we dealt with our inputs(training and testing), let's work the labels!"
   ]
  },
  {
   "cell_type": "code",
   "execution_count": 20,
   "id": "cb95b49a",
   "metadata": {},
   "outputs": [
    {
     "data": {
      "text/plain": [
       "array([9, 0, 0, ..., 3, 0, 5], dtype=uint8)"
      ]
     },
     "execution_count": 20,
     "metadata": {},
     "output_type": "execute_result"
    }
   ],
   "source": [
    "#et's check how the actual labels look like:\n",
    "y_train"
   ]
  },
  {
   "cell_type": "code",
   "execution_count": 21,
   "id": "1339e354",
   "metadata": {},
   "outputs": [
    {
     "data": {
      "text/plain": [
       "(60000,)"
      ]
     },
     "execution_count": 21,
     "metadata": {},
     "output_type": "execute_result"
    }
   ],
   "source": [
    "y_train.shape"
   ]
  },
  {
   "cell_type": "markdown",
   "id": "fc6c79d8",
   "metadata": {},
   "source": [
    "Ok, so we clearly have 2 problems:\n",
    "- First, y_train is an array with the actual labels for each image, but if we tried to predict the labels as such, our network would take them as continuos values and would start predicting values like 5.87 and so on, which don't really help us\n",
    "- Secondly, the label don't help the model in knowing how mny classes it has to predict for, given the shape of y_train (60000, )\n",
    "\n",
    "- We need to transform the labels to categorical values, and the predictions will be built upon the positional indexes(for instance: label 1, so a trouser, will be an array of [0,1,0,0........,0]"
   ]
  },
  {
   "cell_type": "code",
   "execution_count": 22,
   "id": "e491e74a",
   "metadata": {},
   "outputs": [],
   "source": [
    "from tensorflow.keras.utils import to_categorical\n",
    "y_test_cat = to_categorical(y_test, num_classes = 10)\n",
    "y_train_cat = to_categorical(y_train, num_classes = 10)"
   ]
  },
  {
   "cell_type": "code",
   "execution_count": 24,
   "id": "5eb4f508",
   "metadata": {},
   "outputs": [
    {
     "data": {
      "text/plain": [
       "array([[0., 0., 0., ..., 0., 0., 1.],\n",
       "       [0., 0., 1., ..., 0., 0., 0.],\n",
       "       [0., 1., 0., ..., 0., 0., 0.],\n",
       "       ...,\n",
       "       [0., 0., 0., ..., 0., 1., 0.],\n",
       "       [0., 1., 0., ..., 0., 0., 0.],\n",
       "       [0., 0., 0., ..., 0., 0., 0.]], dtype=float32)"
      ]
     },
     "execution_count": 24,
     "metadata": {},
     "output_type": "execute_result"
    }
   ],
   "source": [
    "y_test_cat"
   ]
  },
  {
   "cell_type": "code",
   "execution_count": 25,
   "id": "8be75424",
   "metadata": {},
   "outputs": [
    {
     "data": {
      "text/plain": [
       "(10000, 10)"
      ]
     },
     "execution_count": 25,
     "metadata": {},
     "output_type": "execute_result"
    }
   ],
   "source": [
    "y_test_cat.shape"
   ]
  },
  {
   "cell_type": "markdown",
   "id": "624df780",
   "metadata": {},
   "source": [
    "We succesfully obtained a matrix with 10 classes, we reshaped the training and test inputs and we scaled our data.\n",
    "\n",
    "**Next step is to create and train the model**"
   ]
  },
  {
   "cell_type": "markdown",
   "id": "33bd2b30",
   "metadata": {},
   "source": [
    "For this model in particular I thought about building it in a Sequential way by adding the following layers:\n",
    "- Immediatiately after the input I will add a convolutional layer with 32 filters of kernel size (4,4) each, the stride between the applying of the filters will be 1 pixel\n",
    "- I will apply no padding, because the filter won't encunter missing parameters(pixels), because the shape of the images are 28x28, and this is exactly divisible to the kernel size (4x4)\n",
    "- The activation function for this layer will be rectified linear unit (relu)\n",
    "\n",
    "- The next added layer will be the pooling layer, which will be of small size (2x2), and it's role is to cut from the big number of parameters (given that we have 32 filters, applied to a 28x28 image and we have 60000 training features). I will be using the maxpooling, which basicaly takes the max of the pixels in the given region\n",
    "\n",
    "- I think for this particular dataset a single convolution layer together with a pooling layer is more than enough\n",
    "\n",
    "- Next step will be flattening the inputs (in this case the outputs from the pooling layer). Flattening an image basically means 28x28 = 28*28 = 784\n",
    "\n",
    "- We will feed this flattened values to a dense hidden neural layer (where every neuron is interconnected) and I will keep the number of neurons under 784, more exactly 128, with the relu activation function\n",
    "\n",
    "- Last layer of the model will be the output layer, a dense layer of 10 neurons (because there are 10 label classes) and a softmax activation function\n",
    "\n",
    "- For the optimization of the gradient descent(calculating the slope of the function and moving it to converge to 0) I will use the RMSprop optimizer, which is an adaptive gradient descent, where the algorithm could take larger steps and converge faster to the minimum\n",
    "\n",
    "- The loss function of the model will be determined by categorical crossentropy (which basically stands for the fact that the True values are one-hot encoded)\n",
    "\n",
    "- In addition I would ask my model to also track the accuracy, not just the loss"
   ]
  },
  {
   "cell_type": "code",
   "execution_count": 26,
   "id": "a68d00a4",
   "metadata": {},
   "outputs": [],
   "source": [
    "from tensorflow.keras.models import Sequential\n",
    "from tensorflow.keras.layers import Dense, Conv2D, MaxPool2D, Flatten"
   ]
  },
  {
   "cell_type": "code",
   "execution_count": 27,
   "id": "ba257931",
   "metadata": {},
   "outputs": [],
   "source": [
    "model = Sequential()\n",
    "\n",
    "# Convolutional layer\n",
    "model.add(Conv2D(filters=32, kernel_size=(4,4),input_shape=(28, 28, 1), activation='relu',))\n",
    "# Pooling layer\n",
    "model.add(MaxPool2D(pool_size=(2, 2)))\n",
    "\n",
    "# Flattening the image\n",
    "model.add(Flatten())\n",
    "\n",
    "# Hidden dense layer\n",
    "model.add(Dense(128, activation='relu'))\n",
    "\n",
    "# Output layer for multi-classification\n",
    "model.add(Dense(10, activation='softmax'))\n",
    "\n",
    "#Compiling the model\n",
    "model.compile(loss='categorical_crossentropy',\n",
    "              optimizer='rmsprop',\n",
    "              metrics=['accuracy'])"
   ]
  },
  {
   "cell_type": "code",
   "execution_count": 29,
   "id": "58f671b9",
   "metadata": {},
   "outputs": [
    {
     "name": "stdout",
     "output_type": "stream",
     "text": [
      "Model: \"sequential\"\n",
      "_________________________________________________________________\n",
      " Layer (type)                Output Shape              Param #   \n",
      "=================================================================\n",
      " conv2d (Conv2D)             (None, 25, 25, 32)        544       \n",
      "                                                                 \n",
      " max_pooling2d (MaxPooling2D  (None, 12, 12, 32)       0         \n",
      " )                                                               \n",
      "                                                                 \n",
      " flatten (Flatten)           (None, 4608)              0         \n",
      "                                                                 \n",
      " dense (Dense)               (None, 128)               589952    \n",
      "                                                                 \n",
      " dense_1 (Dense)             (None, 10)                1290      \n",
      "                                                                 \n",
      "=================================================================\n",
      "Total params: 591,786\n",
      "Trainable params: 591,786\n",
      "Non-trainable params: 0\n",
      "_________________________________________________________________\n"
     ]
    }
   ],
   "source": [
    "model.summary()"
   ]
  },
  {
   "cell_type": "markdown",
   "id": "0967e7f2",
   "metadata": {},
   "source": [
    "- We can see that all our parameters are trainable, so we are good to fit the model and run it"
   ]
  },
  {
   "cell_type": "code",
   "execution_count": 30,
   "id": "577f3682",
   "metadata": {},
   "outputs": [],
   "source": [
    "#I will also call an early stop if the loss ceases to decrease\n",
    "from tensorflow.keras.callbacks import EarlyStopping\n",
    "early_stop = EarlyStopping(monitor = 'val_loss', patience = 2)"
   ]
  },
  {
   "cell_type": "code",
   "execution_count": 31,
   "id": "252c7d01",
   "metadata": {},
   "outputs": [
    {
     "name": "stdout",
     "output_type": "stream",
     "text": [
      "Epoch 1/10\n",
      "1875/1875 [==============================] - 44s 23ms/step - loss: 0.4064 - accuracy: 0.8562 - val_loss: 0.3510 - val_accuracy: 0.8739\n",
      "Epoch 2/10\n",
      "1875/1875 [==============================] - 43s 23ms/step - loss: 0.2799 - accuracy: 0.8967 - val_loss: 0.2875 - val_accuracy: 0.8959\n",
      "Epoch 3/10\n",
      "1875/1875 [==============================] - 43s 23ms/step - loss: 0.2405 - accuracy: 0.9125 - val_loss: 0.2821 - val_accuracy: 0.8973\n",
      "Epoch 4/10\n",
      "1875/1875 [==============================] - 43s 23ms/step - loss: 0.2133 - accuracy: 0.9215 - val_loss: 0.2815 - val_accuracy: 0.8999\n",
      "Epoch 5/10\n",
      "1875/1875 [==============================] - 43s 23ms/step - loss: 0.1932 - accuracy: 0.9297 - val_loss: 0.2681 - val_accuracy: 0.9057\n",
      "Epoch 6/10\n",
      "1875/1875 [==============================] - 42s 23ms/step - loss: 0.1747 - accuracy: 0.9360 - val_loss: 0.2756 - val_accuracy: 0.9060\n",
      "Epoch 7/10\n",
      "1875/1875 [==============================] - 43s 23ms/step - loss: 0.1597 - accuracy: 0.9426 - val_loss: 0.2744 - val_accuracy: 0.9091\n"
     ]
    },
    {
     "data": {
      "text/plain": [
       "<keras.callbacks.History at 0x1eca504aa30>"
      ]
     },
     "execution_count": 31,
     "metadata": {},
     "output_type": "execute_result"
    }
   ],
   "source": [
    "#I decided to let the model run 10 times through all images with an early stop option\n",
    "model.fit(X_train, y_train_cat, epochs = 10, \n",
    "         validation_data=(X_test, y_test_cat), callbacks=[early_stop])"
   ]
  },
  {
   "cell_type": "code",
   "execution_count": 32,
   "id": "166701b3",
   "metadata": {},
   "outputs": [],
   "source": [
    "metrics = pd.DataFrame(model.history.history)"
   ]
  },
  {
   "cell_type": "code",
   "execution_count": 33,
   "id": "049a8247",
   "metadata": {},
   "outputs": [
    {
     "data": {
      "text/html": [
       "<div>\n",
       "<style scoped>\n",
       "    .dataframe tbody tr th:only-of-type {\n",
       "        vertical-align: middle;\n",
       "    }\n",
       "\n",
       "    .dataframe tbody tr th {\n",
       "        vertical-align: top;\n",
       "    }\n",
       "\n",
       "    .dataframe thead th {\n",
       "        text-align: right;\n",
       "    }\n",
       "</style>\n",
       "<table border=\"1\" class=\"dataframe\">\n",
       "  <thead>\n",
       "    <tr style=\"text-align: right;\">\n",
       "      <th></th>\n",
       "      <th>loss</th>\n",
       "      <th>accuracy</th>\n",
       "      <th>val_loss</th>\n",
       "      <th>val_accuracy</th>\n",
       "    </tr>\n",
       "  </thead>\n",
       "  <tbody>\n",
       "    <tr>\n",
       "      <th>0</th>\n",
       "      <td>0.406371</td>\n",
       "      <td>0.856250</td>\n",
       "      <td>0.351037</td>\n",
       "      <td>0.8739</td>\n",
       "    </tr>\n",
       "    <tr>\n",
       "      <th>1</th>\n",
       "      <td>0.279925</td>\n",
       "      <td>0.896650</td>\n",
       "      <td>0.287499</td>\n",
       "      <td>0.8959</td>\n",
       "    </tr>\n",
       "    <tr>\n",
       "      <th>2</th>\n",
       "      <td>0.240506</td>\n",
       "      <td>0.912467</td>\n",
       "      <td>0.282099</td>\n",
       "      <td>0.8973</td>\n",
       "    </tr>\n",
       "    <tr>\n",
       "      <th>3</th>\n",
       "      <td>0.213334</td>\n",
       "      <td>0.921467</td>\n",
       "      <td>0.281531</td>\n",
       "      <td>0.8999</td>\n",
       "    </tr>\n",
       "    <tr>\n",
       "      <th>4</th>\n",
       "      <td>0.193224</td>\n",
       "      <td>0.929650</td>\n",
       "      <td>0.268115</td>\n",
       "      <td>0.9057</td>\n",
       "    </tr>\n",
       "    <tr>\n",
       "      <th>5</th>\n",
       "      <td>0.174730</td>\n",
       "      <td>0.936017</td>\n",
       "      <td>0.275559</td>\n",
       "      <td>0.9060</td>\n",
       "    </tr>\n",
       "    <tr>\n",
       "      <th>6</th>\n",
       "      <td>0.159727</td>\n",
       "      <td>0.942567</td>\n",
       "      <td>0.274435</td>\n",
       "      <td>0.9091</td>\n",
       "    </tr>\n",
       "  </tbody>\n",
       "</table>\n",
       "</div>"
      ],
      "text/plain": [
       "       loss  accuracy  val_loss  val_accuracy\n",
       "0  0.406371  0.856250  0.351037        0.8739\n",
       "1  0.279925  0.896650  0.287499        0.8959\n",
       "2  0.240506  0.912467  0.282099        0.8973\n",
       "3  0.213334  0.921467  0.281531        0.8999\n",
       "4  0.193224  0.929650  0.268115        0.9057\n",
       "5  0.174730  0.936017  0.275559        0.9060\n",
       "6  0.159727  0.942567  0.274435        0.9091"
      ]
     },
     "execution_count": 33,
     "metadata": {},
     "output_type": "execute_result"
    }
   ],
   "source": [
    "metrics"
   ]
  },
  {
   "cell_type": "code",
   "execution_count": 35,
   "id": "8545c08f",
   "metadata": {},
   "outputs": [
    {
     "data": {
      "text/plain": [
       "<AxesSubplot: >"
      ]
     },
     "execution_count": 35,
     "metadata": {},
     "output_type": "execute_result"
    },
    {
     "data": {
      "image/png": "[encoded data removed]",
      "text/plain": [
       "<Figure size 640x480 with 1 Axes>"
      ]
     },
     "metadata": {},
     "output_type": "display_data"
    }
   ],
   "source": [
    "#Let's see the result better visually:\n",
    "\n",
    "#First for the loss:\n",
    "\n",
    "metrics[['loss', 'val_loss']].plot()"
   ]
  },
  {
   "cell_type": "markdown",
   "id": "f7d17a70",
   "metadata": {},
   "source": [
    "- We can see that on the training data that the model did very well in terms of loss, and on the test data after 5-6 epochs it kind of flattened\n",
    "\n",
    "- Let's check how we did in term of accuracy:\n"
   ]
  },
  {
   "cell_type": "code",
   "execution_count": 36,
   "id": "1cf0fae8",
   "metadata": {},
   "outputs": [
    {
     "data": {
      "text/plain": [
       "<AxesSubplot: >"
      ]
     },
     "execution_count": 36,
     "metadata": {},
     "output_type": "execute_result"
    },
    {
     "data": {
      "image/png": "[encoded data removed]",
      "text/plain": [
       "<Figure size 640x480 with 1 Axes>"
      ]
     },
     "metadata": {},
     "output_type": "display_data"
    }
   ],
   "source": [
    "metrics[['accuracy', 'val_accuracy']].plot()"
   ]
  },
  {
   "cell_type": "markdown",
   "id": "5611b02d",
   "metadata": {},
   "source": [
    "- We can see that accuracy kept increasing for both training and test data, but because the loss function didn't decrease any further the model stopped(as I told it to do). However, the accuracy looks extremely good (~ 90%)"
   ]
  },
  {
   "cell_type": "markdown",
   "id": "4ccb6769",
   "metadata": {},
   "source": [
    "**Evaluation of the model**"
   ]
  },
  {
   "cell_type": "code",
   "execution_count": 37,
   "id": "8727e87a",
   "metadata": {},
   "outputs": [],
   "source": [
    "from sklearn.metrics import classification_report, confusion_matrix"
   ]
  },
  {
   "cell_type": "code",
   "execution_count": 39,
   "id": "360fab2a",
   "metadata": {},
   "outputs": [
    {
     "name": "stdout",
     "output_type": "stream",
     "text": [
      "313/313 [==============================] - 2s 7ms/step\n"
     ]
    },
    {
     "data": {
      "text/plain": [
       "array([[2.33148725e-07, 5.84220494e-09, 1.26359625e-08, ...,\n",
       "        8.76420745e-06, 2.39288511e-07, 9.99730170e-01],\n",
       "       [1.74368290e-06, 3.29216984e-16, 9.99996185e-01, ...,\n",
       "        2.64011191e-15, 4.49126535e-11, 7.51003535e-13],\n",
       "       [2.14003446e-08, 9.99999881e-01, 1.31521072e-10, ...,\n",
       "        8.06064146e-13, 2.51931975e-10, 2.36336840e-12],\n",
       "       ...,\n",
       "       [1.27903729e-10, 5.47755891e-17, 1.47862744e-09, ...,\n",
       "        1.66957081e-09, 9.99999881e-01, 9.19391212e-12],\n",
       "       [1.22951732e-10, 9.99999881e-01, 2.64706538e-11, ...,\n",
       "        4.72982981e-13, 2.49299821e-12, 3.76954848e-12],\n",
       "       [6.88582892e-04, 1.58003095e-04, 3.23271542e-03, ...,\n",
       "        9.49214101e-02, 1.66194998e-02, 1.38852699e-02]], dtype=float32)"
      ]
     },
     "execution_count": 39,
     "metadata": {},
     "output_type": "execute_result"
    }
   ],
   "source": [
    "#First we have to actually have prediction values:\n",
    "\n",
    "preds = model.predict(X_test)\n",
    "preds"
   ]
  },
  {
   "cell_type": "markdown",
   "id": "faf3a020",
   "metadata": {},
   "source": [
    "- We can see in this array, with some kind of % values, that represent the how sure the model is that the image is one of the given classes \n",
    "- For example: the class is 0 (t-shirt) and the output is: [0.84, 0.014, 0.012,.....,0.0032], this means that the model is 84% sure that it is a class 0\n",
    "- But I want this output to be the actual labels:"
   ]
  },
  {
   "cell_type": "code",
   "execution_count": 40,
   "id": "1d53d11c",
   "metadata": {},
   "outputs": [],
   "source": [
    "predictions = np.argmax(preds, axis=1)"
   ]
  },
  {
   "cell_type": "code",
   "execution_count": 41,
   "id": "d639a663",
   "metadata": {},
   "outputs": [
    {
     "data": {
      "text/plain": [
       "array([9, 2, 1, ..., 8, 1, 5], dtype=int64)"
      ]
     },
     "execution_count": 41,
     "metadata": {},
     "output_type": "execute_result"
    }
   ],
   "source": [
    "predictions #Now we can clearly see an array of the labels"
   ]
  },
  {
   "cell_type": "code",
   "execution_count": 42,
   "id": "a52a6e65",
   "metadata": {},
   "outputs": [
    {
     "data": {
      "text/plain": [
       "array([0, 1, 2, 3, 4, 5, 6, 7, 8, 9], dtype=int64)"
      ]
     },
     "execution_count": 42,
     "metadata": {},
     "output_type": "execute_result"
    }
   ],
   "source": [
    "#Let's check this label\n",
    "np.unique(predictions) #It checks out!"
   ]
  },
  {
   "cell_type": "code",
   "execution_count": 45,
   "id": "5e64b9d1",
   "metadata": {},
   "outputs": [
    {
     "name": "stdout",
     "output_type": "stream",
     "text": [
      "              precision    recall  f1-score   support\n",
      "\n",
      "           0       0.86      0.86      0.86      1000\n",
      "           1       0.99      0.98      0.99      1000\n",
      "           2       0.84      0.87      0.85      1000\n",
      "           3       0.93      0.91      0.92      1000\n",
      "           4       0.82      0.87      0.84      1000\n",
      "           5       0.98      0.98      0.98      1000\n",
      "           6       0.76      0.71      0.74      1000\n",
      "           7       0.98      0.94      0.96      1000\n",
      "           8       0.98      0.99      0.98      1000\n",
      "           9       0.95      0.98      0.97      1000\n",
      "\n",
      "    accuracy                           0.91     10000\n",
      "   macro avg       0.91      0.91      0.91     10000\n",
      "weighted avg       0.91      0.91      0.91     10000\n",
      "\n"
     ]
    }
   ],
   "source": [
    "print(classification_report(y_test, predictions))"
   ]
  },
  {
   "cell_type": "markdown",
   "id": "48e525b5",
   "metadata": {},
   "source": [
    "Let's talk about this report:\n",
    "- F1 score is the armonic mean between recall and precision and it evaluates actually how well the model does on each class\n",
    "- All in all we see extremely good F1 scores for all the categories, the weakes being 6 (shirts), where maybe the model has a harder time distinguishing them from t-shirts, but I can showcase this better via a confusion matrix\n",
    "- The average accuracy is really good (91%), because for a simple guess between 10 classes we would have 10% accuracy, but the model has 91%, so it does really well even without a complicated neural network "
   ]
  },
  {
   "cell_type": "code",
   "execution_count": 46,
   "id": "d3b361a5",
   "metadata": {},
   "outputs": [
    {
     "data": {
      "text/plain": [
       "array([[865,   0,  18,   9,   6,   0,  97,   0,   5,   0],\n",
       "       [  2, 978,   0,  10,   6,   0,   2,   0,   2,   0],\n",
       "       [ 16,   0, 867,   7,  63,   0,  47,   0,   0,   0],\n",
       "       [ 16,   4,  12, 905,  31,   0,  30,   0,   2,   0],\n",
       "       [  0,   1,  67,  19, 872,   0,  41,   0,   0,   0],\n",
       "       [  0,   0,   0,   1,   0, 984,   0,   2,   2,  11],\n",
       "       [103,   1,  68,  19,  90,   0, 713,   0,   6,   0],\n",
       "       [  0,   0,   0,   0,   0,  19,   0, 938,   0,  43],\n",
       "       [  1,   1,   3,   1,   1,   1,   4,   2, 986,   0],\n",
       "       [  1,   0,   0,   0,   0,   4,   0,  12,   0, 983]], dtype=int64)"
      ]
     },
     "execution_count": 46,
     "metadata": {},
     "output_type": "execute_result"
    }
   ],
   "source": [
    "confusion_matrix(y_test, predictions)"
   ]
  },
  {
   "cell_type": "code",
   "execution_count": 47,
   "id": "26aa3322",
   "metadata": {},
   "outputs": [
    {
     "data": {
      "text/plain": [
       "<AxesSubplot: >"
      ]
     },
     "execution_count": 47,
     "metadata": {},
     "output_type": "execute_result"
    },
    {
     "data": {
      "image/png": "[encoded data removed]",
      "text/plain": [
       "<Figure size 1200x400 with 2 Axes>"
      ]
     },
     "metadata": {},
     "output_type": "display_data"
    }
   ],
   "source": [
    "#For a better visualisation:\n",
    "import seaborn as sns\n",
    "plt.figure(figsize=(12,4))\n",
    "sns.heatmap(confusion_matrix(y_test, predictions), annot = True)"
   ]
  },
  {
   "cell_type": "markdown",
   "id": "0ec6b01f",
   "metadata": {},
   "source": [
    "As I said earlier, the most Type I Errors (False positive) and type II Errors (False negative) appear to be between class 0 and 6, so between t-shirts and shirts, as I correctly guessed before-hand"
   ]
  },
  {
   "cell_type": "markdown",
   "id": "3abf00d3",
   "metadata": {},
   "source": [
    "**Run a prediction on a new image**"
   ]
  },
  {
   "cell_type": "code",
   "execution_count": 50,
   "id": "ef100ee0",
   "metadata": {},
   "outputs": [],
   "source": [
    "new_img = X_test[675]"
   ]
  },
  {
   "cell_type": "code",
   "execution_count": 51,
   "id": "17046df4",
   "metadata": {},
   "outputs": [
    {
     "data": {
      "text/plain": [
       "<matplotlib.image.AxesImage at 0x1ecc8d1f220>"
      ]
     },
     "execution_count": 51,
     "metadata": {},
     "output_type": "execute_result"
    },
    {
     "data": {
      "image/png": "[encoded data removed]",
      "text/plain": [
       "<Figure size 640x480 with 1 Axes>"
      ]
     },
     "metadata": {},
     "output_type": "display_data"
    }
   ],
   "source": [
    "plt.imshow(new_img.reshape(28,28), cmap = 'Greys')"
   ]
  },
  {
   "cell_type": "markdown",
   "id": "fbff55ae",
   "metadata": {},
   "source": [
    "- I am honestly not quite sure what this is, so let's see how the model does"
   ]
  },
  {
   "cell_type": "code",
   "execution_count": 52,
   "id": "bc0be6d8",
   "metadata": {},
   "outputs": [
    {
     "name": "stdout",
     "output_type": "stream",
     "text": [
      "1/1 [==============================] - 0s 37ms/step\n"
     ]
    },
    {
     "data": {
      "text/plain": [
       "array([8], dtype=int64)"
      ]
     },
     "execution_count": 52,
     "metadata": {},
     "output_type": "execute_result"
    }
   ],
   "source": [
    "#Here it is important to specify the output shape, so it knows it has to put out a single image\n",
    "np.argmax(model.predict(new_img.reshape(1,28,28,1)), axis=1)"
   ]
  },
  {
   "cell_type": "markdown",
   "id": "b0e74163",
   "metadata": {},
   "source": [
    "The model predicted it to be class 8, so a bag. Let's test it against the actual label:"
   ]
  },
  {
   "cell_type": "code",
   "execution_count": 53,
   "id": "9edf2006",
   "metadata": {},
   "outputs": [
    {
     "data": {
      "text/plain": [
       "8"
      ]
     },
     "execution_count": 53,
     "metadata": {},
     "output_type": "execute_result"
    }
   ],
   "source": [
    "y_test[675]"
   ]
  },
  {
   "cell_type": "markdown",
   "id": "9a73149f",
   "metadata": {},
   "source": [
    "Yes indeed it was a bag and the model predicted it perfectly!"
   ]
  },
  {
   "cell_type": "markdown",
   "id": "3b667cb5",
   "metadata": {},
   "source": [
    "## The first task of this project was succesfully achieved, as we predicted the classes of the images with great F1 scores and great accuracy. I have thought trying to change the optmizer to 'adam' and add sme more convolutional layer, but the model did so great on the first try that I decided to let it as it is. Let's go to the next chapter!"
   ]
  },
  {
   "cell_type": "markdown",
   "id": "51dab2aa",
   "metadata": {},
   "source": [
    "\n",
    "\n",
    "## CIFAR-10 dataset"
   ]
  },
  {
   "cell_type": "markdown",
   "id": "1d6dd077",
   "metadata": {},
   "source": [
    "**Description of the CIFAR-10 dataset**\n",
    "\n",
    "This image-dataset includes 10 labels of different colored items. The dataset is also built into the keras library and has 50000 training images and 10000 testing images with width and height of 32x32.\n",
    "\n",
    "  Label\t   Description\n",
    "  \n",
    "    0\t    Airplane\n",
    "    \n",
    "    1\t    automobile\n",
    "    \n",
    "    2\t    bird\n",
    "    \n",
    "    3\t    cat\n",
    "    \n",
    "    4\t    deer\n",
    "    \n",
    "    5\t    dog\n",
    "    \n",
    "    6\t    frog\n",
    "    \n",
    "    7\t    Sneaker\n",
    "    \n",
    "    8\t    Bag\n",
    "    \n",
    "    9\t    Ankle boot"
   ]
  }
 ],
 "metadata": {
  "kernelspec": {
   "display_name": "Python 3 (ipykernel)",
   "language": "python",
   "name": "python3"
  },
  "language_info": {
   "codemirror_mode": {
    "name": "ipython",
    "version": 3
   },
   "file_extension": ".py",
   "mimetype": "text/x-python",
   "name": "python",
   "nbconvert_exporter": "python",
   "pygments_lexer": "ipython3",
   "version": "3.9.15"
  }
 },
 "nbformat": 4,
 "nbformat_minor": 5
}
